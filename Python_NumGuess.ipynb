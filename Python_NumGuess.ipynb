{
 "cells": [
  {
   "cell_type": "code",
   "execution_count": null,
   "metadata": {},
   "outputs": [],
   "source": [
    "import random\n",
    "games = int(input('Give no. of games you want to play: '))\n",
    "#print('games',games)\n",
    "for i in range(games):\n",
    "    print('Game',i+1)\n",
    "    rand_num = random.randint(1,26)\n",
    "    #print('rand_num',rand_num)\n",
    "    inp = 0\n",
    "    if inp <1 or inp > 25:\n",
    "        while inp < 1 or inp > 25:\n",
    "            inp = int(input('Guess a no. between 1 and 25: '))     \n",
    "        #print('inp', inp)\n",
    "    c = 1\n",
    "    \n",
    "    while inp != rand_num:\n",
    "        if inp > rand_num:\n",
    "            inp = int(input(('Guess a lower no. ')))\n",
    "            c = c+1          \n",
    "        else :                    \n",
    "            inp = int(input(('Guess a higher no. ')))\n",
    "            c = c+1\n",
    "        \n",
    "    \n",
    "    print('You took',c,'guesses')"
   ]
  }
 ],
 "metadata": {
  "kernelspec": {
   "display_name": "Python 3",
   "language": "python",
   "name": "python3"
  },
  "language_info": {
   "codemirror_mode": {
    "name": "ipython",
    "version": 3
   },
   "file_extension": ".py",
   "mimetype": "text/x-python",
   "name": "python",
   "nbconvert_exporter": "python",
   "pygments_lexer": "ipython3",
   "version": "3.6.10"
  }
 },
 "nbformat": 4,
 "nbformat_minor": 4
}
